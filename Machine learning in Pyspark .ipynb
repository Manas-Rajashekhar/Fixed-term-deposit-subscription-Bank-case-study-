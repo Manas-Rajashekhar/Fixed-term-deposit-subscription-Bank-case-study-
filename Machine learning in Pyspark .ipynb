{
 "cells": [
  {
   "cell_type": "markdown",
   "metadata": {},
   "source": [
    "\n",
    "## Classification Using Decision Tree, Random Forest,  and Logistic Regression in Pyspark\n"
   ]
  },
  {
   "cell_type": "markdown",
   "metadata": {},
   "source": [
    "## Table of Contents\n",
    "\n",
    "* [Bank case study: Will the client subscribe?](#one)\n",
    "* [Data Loading and Preparation](#data-preparation)\n",
    "* [Feature Engineering](#feature-engineering)\n",
    "    * [StringIndexer](#feature-engineering)\n",
    "    * [OneHotEncoder](#feature-engineering)\n",
    "    * [VectorAssembler](#feature-engineering)\n",
    "* [Pipeline API](#pipeline)\n",
    "* [Train/Test Split](#train-test)\n",
    "* [ML Classification Models](#models)\n",
    "    * [Decision Tree](#dt)\n",
    "    * [Random Forest](#rf)        \n",
    "    * [Logistic Regression](#lr)    \n",
    "* [Model Evaluation](#model-evaluation)\n",
    "    * [Confusion Matrix](#confusion-matrix)\n",
    "    * [Area Under the Curve](#roc)    \n",
    "    * [Visualizing ROC Curve](#roc-viz)\n"
   ]
  },
  {
   "cell_type": "markdown",
   "metadata": {},
   "source": [
    "## Bank case study: Will the client subscribe? <a class=\"anchor\" id=\"one\"></a>\n",
    "<hr/>\n",
    "\n",
    "The data was used to direct marketing campaigns of a banking institution. The marketing campaigns were based on phone calls. The classification goal is to predict whether the client will subscribe (1/0) to a term deposit.\n",
    "\n",
    "### **Attributes**\n",
    "\n",
    "1. age (numeric)\n",
    "2. job : type of job (categorical: 'admin.','blue-collar','entrepreneur','housemaid','management','retired','self-employed','services','student','technician','unemployed','unknown')\n",
    "3. marital : marital status (categorical: 'divorced','married','single','unknown'; note: 'divorced' means divorced or widowed)\n",
    "4. education (categorical: 'primary', 'secondary', 'tertiary', 'unknown')\n",
    "5. default: has credit in default? (categorical: 'no','yes','unknown')\n",
    "6. balance : bank balance\n",
    "7. housing: has housing loan? (categorical: 'no','yes','unknown')\n",
    "8. loan: has personal loan? (categorical: 'no','yes','unknown')\n",
    "\n",
    "### Related with the last contact of the current campaign:\n",
    "9. contact: contact communication type (categorical: 'cellular','telephone','unknown')\n",
    "10. day: last contact day of the week (numerical: 1,2,...28,29,30)\n",
    "1. month: last contact month of year (categorical: 'jan', 'feb', 'mar', ..., 'nov', 'dec')\n",
    "12. duration: last contact duration, in seconds (numeric). Important note: this attribute highly affects the output target (e.g., if duration=0 then y='no'). Yet, the duration is not known before a call is performed. Also, after the end of the call y is obviously known. Thus, this input should only be included for benchmark purposes and should be discarded if the intention is to have a realistic predictive model.\n",
    "\n",
    "### Other attributes:\n",
    "12. campaign: number of contacts performed during this campaign and for this client (numeric, includes last contact)\n",
    "13. pdays: number of days that passed by after the client was last contacted from a previous campaign (numeric; 999 means client was not previously contacted)\n",
    "14. previous: number of contacts performed before this campaign and for this client (numeric)\n",
    "15. poutcome: outcome of the previous marketing campaign (categorical: 'failure','nonexistent','success','unknown')\n",
    "\n",
    "### Output variable (desired target):\n",
    "16. deposit - has the client subscribed a term deposit? (binary: 'yes','no')"
   ]
  },
  {
   "cell_type": "code",
   "execution_count": 34,
   "metadata": {},
   "outputs": [],
   "source": [
    "# TODO: Import libraries needed from pyspark\n",
    "from pyspark import SparkConf\n",
    "from pyspark.sql import SparkSession # Spark SQL\n",
    "# TODO: Create Spark Configuration Object\n",
    "app_name = \"Spark ML\"\n",
    "master = \"local[*]\"\n",
    "spark_conf = SparkConf().setMaster(master).setAppName(app_name)\n",
    "# TODO: Create SparkSession\n",
    "spark = SparkSession.builder.config(conf=spark_conf).getOrCreate()\n",
    "sc = spark.sparkContext\n",
    "sc.setLogLevel('ERROR')"
   ]
  },
  {
   "cell_type": "markdown",
   "metadata": {},
   "source": [
    "### Step 1: Data Loading and Preparation <a class=\"anchor\" name=\"data-preparation\"></a> "
   ]
  },
  {
   "cell_type": "code",
   "execution_count": 35,
   "metadata": {},
   "outputs": [],
   "source": [
    "#Write your code here\n",
    "df_bank = spark.read.format('csv')\\\n",
    "            .option('header',True).option('escape','\"')\\\n",
    "            .load('bank.csv')"
   ]
  },
  {
   "cell_type": "code",
   "execution_count": 36,
   "metadata": {},
   "outputs": [
    {
     "name": "stdout",
     "output_type": "stream",
     "text": [
      "root\n",
      " |-- age: string (nullable = true)\n",
      " |-- job: string (nullable = true)\n",
      " |-- marital: string (nullable = true)\n",
      " |-- education: string (nullable = true)\n",
      " |-- default: string (nullable = true)\n",
      " |-- balance: string (nullable = true)\n",
      " |-- housing: string (nullable = true)\n",
      " |-- loan: string (nullable = true)\n",
      " |-- contact: string (nullable = true)\n",
      " |-- day: string (nullable = true)\n",
      " |-- month: string (nullable = true)\n",
      " |-- duration: string (nullable = true)\n",
      " |-- campaign: string (nullable = true)\n",
      " |-- pdays: string (nullable = true)\n",
      " |-- previous: string (nullable = true)\n",
      " |-- poutcome: string (nullable = true)\n",
      " |-- deposit: string (nullable = true)\n",
      "\n"
     ]
    }
   ],
   "source": [
    "df_bank.printSchema()"
   ]
  },
  {
   "cell_type": "markdown",
   "metadata": {},
   "source": [
    "### Step 2: Feature Engineering <a class=\"anchor\" name=\"feature-engineering\"></a> \n",
    " Using all the features, separate the numerical and non-numerical features to simplify the Feature Engineering process. For the <strong style=\"color:red\"> target variable, make sure 1 is for Yes and 0 is for No</strong> while converting it to numeric representation."
   ]
  },
  {
   "cell_type": "code",
   "execution_count": 37,
   "metadata": {},
   "outputs": [],
   "source": [
    "from pyspark.ml.feature import OneHotEncoder\n",
    "from pyspark.ml.feature import StringIndexer\n",
    "cols = [\"job\",\"marital\",\"education\",\"default\",\"housing\",\"loan\",\"contact\",\"month\",\"poutcome\",\"deposit\"]\n",
    "input_columns = [x for x in cols]\n",
    "output_columns = [f'{x}_index' for x in input_columns]\n",
    "indexer = StringIndexer(inputCols=input_columns, outputCols=output_columns)\n",
    "df_bank = indexer.fit(df_bank).transform(df_bank)\n"
   ]
  },
  {
   "cell_type": "code",
   "execution_count": 38,
   "metadata": {
    "scrolled": true
   },
   "outputs": [
    {
     "name": "stdout",
     "output_type": "stream",
     "text": [
      "+---------+-------------+---------------+-------------+-------------+----------+-------------+-----------+--------------+-------------+\n",
      "|job_index|marital_index|education_index|default_index|housing_index|loan_index|contact_index|month_index|poutcome_index|deposit_index|\n",
      "+---------+-------------+---------------+-------------+-------------+----------+-------------+-----------+--------------+-------------+\n",
      "|      3.0|          0.0|            0.0|          0.0|          1.0|       0.0|          1.0|        0.0|           0.0|          1.0|\n",
      "|      3.0|          0.0|            0.0|          0.0|          0.0|       0.0|          1.0|        0.0|           0.0|          1.0|\n",
      "|      2.0|          0.0|            0.0|          0.0|          1.0|       0.0|          1.0|        0.0|           0.0|          1.0|\n",
      "|      4.0|          0.0|            0.0|          0.0|          1.0|       0.0|          1.0|        0.0|           0.0|          1.0|\n",
      "|      3.0|          0.0|            1.0|          0.0|          0.0|       0.0|          1.0|        0.0|           0.0|          1.0|\n",
      "|      0.0|          1.0|            1.0|          0.0|          1.0|       1.0|          1.0|        0.0|           0.0|          1.0|\n",
      "|      0.0|          0.0|            1.0|          0.0|          1.0|       1.0|          1.0|        0.0|           0.0|          1.0|\n",
      "|      5.0|          2.0|            0.0|          0.0|          1.0|       0.0|          1.0|        0.0|           0.0|          1.0|\n",
      "|      2.0|          0.0|            0.0|          0.0|          1.0|       0.0|          1.0|        0.0|           0.0|          1.0|\n",
      "|      4.0|          1.0|            0.0|          0.0|          1.0|       0.0|          1.0|        0.0|           0.0|          1.0|\n",
      "|      3.0|          1.0|            0.0|          0.0|          1.0|       0.0|          1.0|        0.0|           0.0|          1.0|\n",
      "|      1.0|          0.0|            0.0|          0.0|          1.0|       0.0|          1.0|        0.0|           0.0|          1.0|\n",
      "|      0.0|          0.0|            1.0|          0.0|          1.0|       1.0|          1.0|        0.0|           0.0|          1.0|\n",
      "|      1.0|          1.0|            1.0|          0.0|          1.0|       0.0|          1.0|        0.0|           0.0|          1.0|\n",
      "|      2.0|          1.0|            1.0|          0.0|          1.0|       0.0|          1.0|        0.0|           0.0|          1.0|\n",
      "|      0.0|          2.0|            1.0|          0.0|          1.0|       0.0|          1.0|        0.0|           0.0|          1.0|\n",
      "|      1.0|          1.0|            2.0|          0.0|          1.0|       0.0|          1.0|        0.0|           0.0|          1.0|\n",
      "|      4.0|          0.0|            0.0|          0.0|          1.0|       0.0|          1.0|        0.0|           0.0|          1.0|\n",
      "|      3.0|          0.0|            0.0|          0.0|          1.0|       0.0|          1.0|        0.0|           0.0|          1.0|\n",
      "|      3.0|          2.0|            0.0|          0.0|          1.0|       1.0|          1.0|        0.0|           0.0|          1.0|\n",
      "+---------+-------------+---------------+-------------+-------------+----------+-------------+-----------+--------------+-------------+\n",
      "only showing top 20 rows\n",
      "\n"
     ]
    }
   ],
   "source": [
    "df_bank.select(output_columns).show()"
   ]
  },
  {
   "cell_type": "code",
   "execution_count": 39,
   "metadata": {},
   "outputs": [],
   "source": [
    "remaining_cols = list()\n",
    "for x in df_bank.columns:\n",
    "    if x in cols:\n",
    "        continue\n",
    "    remaining_cols.append(x)"
   ]
  },
  {
   "cell_type": "code",
   "execution_count": 40,
   "metadata": {},
   "outputs": [
    {
     "name": "stdout",
     "output_type": "stream",
     "text": [
      "['age', 'balance', 'day', 'duration', 'campaign', 'pdays', 'previous', 'default_index', 'poutcome_index', 'deposit_index', 'loan_index', 'housing_index', 'marital_index', 'month_index', 'contact_index', 'education_index', 'job_index']\n"
     ]
    }
   ],
   "source": [
    "print(remaining_cols)"
   ]
  },
  {
   "cell_type": "code",
   "execution_count": 41,
   "metadata": {},
   "outputs": [],
   "source": [
    "from pyspark.sql.types import DoubleType\n",
    "for x in remaining_cols:\n",
    "    df_bank = df_bank.withColumn(x, df_bank[x].cast(DoubleType()))"
   ]
  },
  {
   "cell_type": "code",
   "execution_count": 42,
   "metadata": {},
   "outputs": [
    {
     "name": "stdout",
     "output_type": "stream",
     "text": [
      "root\n",
      " |-- age: double (nullable = true)\n",
      " |-- job: string (nullable = true)\n",
      " |-- marital: string (nullable = true)\n",
      " |-- education: string (nullable = true)\n",
      " |-- default: string (nullable = true)\n",
      " |-- balance: double (nullable = true)\n",
      " |-- housing: string (nullable = true)\n",
      " |-- loan: string (nullable = true)\n",
      " |-- contact: string (nullable = true)\n",
      " |-- day: double (nullable = true)\n",
      " |-- month: string (nullable = true)\n",
      " |-- duration: double (nullable = true)\n",
      " |-- campaign: double (nullable = true)\n",
      " |-- pdays: double (nullable = true)\n",
      " |-- previous: double (nullable = true)\n",
      " |-- poutcome: string (nullable = true)\n",
      " |-- deposit: string (nullable = true)\n",
      " |-- default_index: double (nullable = false)\n",
      " |-- poutcome_index: double (nullable = false)\n",
      " |-- deposit_index: double (nullable = false)\n",
      " |-- loan_index: double (nullable = false)\n",
      " |-- housing_index: double (nullable = false)\n",
      " |-- marital_index: double (nullable = false)\n",
      " |-- month_index: double (nullable = false)\n",
      " |-- contact_index: double (nullable = false)\n",
      " |-- education_index: double (nullable = false)\n",
      " |-- job_index: double (nullable = false)\n",
      "\n"
     ]
    }
   ],
   "source": [
    "df_bank.printSchema()"
   ]
  },
  {
   "cell_type": "code",
   "execution_count": 43,
   "metadata": {},
   "outputs": [
    {
     "name": "stdout",
     "output_type": "stream",
     "text": [
      "+--------------+-----------------+-------------------+-----------------+-----------------+--------------+-----------------+---------------+------------------+\n",
      "| job_index_vec|marital_index_vec|education_index_vec|default_index_vec|housing_index_vec|loan_index_vec|contact_index_vec|month_index_vec|poutcome_index_vec|\n",
      "+--------------+-----------------+-------------------+-----------------+-----------------+--------------+-----------------+---------------+------------------+\n",
      "|(11,[3],[1.0])|    (2,[0],[1.0])|      (3,[0],[1.0])|    (1,[0],[1.0])|        (1,[],[])| (1,[0],[1.0])|    (2,[1],[1.0])| (11,[0],[1.0])|     (3,[0],[1.0])|\n",
      "|(11,[3],[1.0])|    (2,[0],[1.0])|      (3,[0],[1.0])|    (1,[0],[1.0])|    (1,[0],[1.0])| (1,[0],[1.0])|    (2,[1],[1.0])| (11,[0],[1.0])|     (3,[0],[1.0])|\n",
      "|(11,[2],[1.0])|    (2,[0],[1.0])|      (3,[0],[1.0])|    (1,[0],[1.0])|        (1,[],[])| (1,[0],[1.0])|    (2,[1],[1.0])| (11,[0],[1.0])|     (3,[0],[1.0])|\n",
      "|(11,[4],[1.0])|    (2,[0],[1.0])|      (3,[0],[1.0])|    (1,[0],[1.0])|        (1,[],[])| (1,[0],[1.0])|    (2,[1],[1.0])| (11,[0],[1.0])|     (3,[0],[1.0])|\n",
      "|(11,[3],[1.0])|    (2,[0],[1.0])|      (3,[1],[1.0])|    (1,[0],[1.0])|    (1,[0],[1.0])| (1,[0],[1.0])|    (2,[1],[1.0])| (11,[0],[1.0])|     (3,[0],[1.0])|\n",
      "|(11,[0],[1.0])|    (2,[1],[1.0])|      (3,[1],[1.0])|    (1,[0],[1.0])|        (1,[],[])|     (1,[],[])|    (2,[1],[1.0])| (11,[0],[1.0])|     (3,[0],[1.0])|\n",
      "|(11,[0],[1.0])|    (2,[0],[1.0])|      (3,[1],[1.0])|    (1,[0],[1.0])|        (1,[],[])|     (1,[],[])|    (2,[1],[1.0])| (11,[0],[1.0])|     (3,[0],[1.0])|\n",
      "|(11,[5],[1.0])|        (2,[],[])|      (3,[0],[1.0])|    (1,[0],[1.0])|        (1,[],[])| (1,[0],[1.0])|    (2,[1],[1.0])| (11,[0],[1.0])|     (3,[0],[1.0])|\n",
      "|(11,[2],[1.0])|    (2,[0],[1.0])|      (3,[0],[1.0])|    (1,[0],[1.0])|        (1,[],[])| (1,[0],[1.0])|    (2,[1],[1.0])| (11,[0],[1.0])|     (3,[0],[1.0])|\n",
      "|(11,[4],[1.0])|    (2,[1],[1.0])|      (3,[0],[1.0])|    (1,[0],[1.0])|        (1,[],[])| (1,[0],[1.0])|    (2,[1],[1.0])| (11,[0],[1.0])|     (3,[0],[1.0])|\n",
      "|(11,[3],[1.0])|    (2,[1],[1.0])|      (3,[0],[1.0])|    (1,[0],[1.0])|        (1,[],[])| (1,[0],[1.0])|    (2,[1],[1.0])| (11,[0],[1.0])|     (3,[0],[1.0])|\n",
      "|(11,[1],[1.0])|    (2,[0],[1.0])|      (3,[0],[1.0])|    (1,[0],[1.0])|        (1,[],[])| (1,[0],[1.0])|    (2,[1],[1.0])| (11,[0],[1.0])|     (3,[0],[1.0])|\n",
      "|(11,[0],[1.0])|    (2,[0],[1.0])|      (3,[1],[1.0])|    (1,[0],[1.0])|        (1,[],[])|     (1,[],[])|    (2,[1],[1.0])| (11,[0],[1.0])|     (3,[0],[1.0])|\n",
      "|(11,[1],[1.0])|    (2,[1],[1.0])|      (3,[1],[1.0])|    (1,[0],[1.0])|        (1,[],[])| (1,[0],[1.0])|    (2,[1],[1.0])| (11,[0],[1.0])|     (3,[0],[1.0])|\n",
      "|(11,[2],[1.0])|    (2,[1],[1.0])|      (3,[1],[1.0])|    (1,[0],[1.0])|        (1,[],[])| (1,[0],[1.0])|    (2,[1],[1.0])| (11,[0],[1.0])|     (3,[0],[1.0])|\n",
      "|(11,[0],[1.0])|        (2,[],[])|      (3,[1],[1.0])|    (1,[0],[1.0])|        (1,[],[])| (1,[0],[1.0])|    (2,[1],[1.0])| (11,[0],[1.0])|     (3,[0],[1.0])|\n",
      "|(11,[1],[1.0])|    (2,[1],[1.0])|      (3,[2],[1.0])|    (1,[0],[1.0])|        (1,[],[])| (1,[0],[1.0])|    (2,[1],[1.0])| (11,[0],[1.0])|     (3,[0],[1.0])|\n",
      "|(11,[4],[1.0])|    (2,[0],[1.0])|      (3,[0],[1.0])|    (1,[0],[1.0])|        (1,[],[])| (1,[0],[1.0])|    (2,[1],[1.0])| (11,[0],[1.0])|     (3,[0],[1.0])|\n",
      "|(11,[3],[1.0])|    (2,[0],[1.0])|      (3,[0],[1.0])|    (1,[0],[1.0])|        (1,[],[])| (1,[0],[1.0])|    (2,[1],[1.0])| (11,[0],[1.0])|     (3,[0],[1.0])|\n",
      "|(11,[3],[1.0])|        (2,[],[])|      (3,[0],[1.0])|    (1,[0],[1.0])|        (1,[],[])|     (1,[],[])|    (2,[1],[1.0])| (11,[0],[1.0])|     (3,[0],[1.0])|\n",
      "+--------------+-----------------+-------------------+-----------------+-----------------+--------------+-----------------+---------------+------------------+\n",
      "only showing top 20 rows\n",
      "\n"
     ]
    }
   ],
   "source": [
    "inputCols_OHE = [x for x in output_columns if x != 'deposit_index']\n",
    "outputCols_OHE = [f'{x}_vec' for x in inputCols_OHE]\n",
    "\n",
    "encoder = OneHotEncoder(inputCols=inputCols_OHE,\n",
    "                        outputCols=outputCols_OHE)\n",
    "# Call fit and transform to get the encoded results\n",
    "df_bank = encoder.fit(df_bank).transform(df_bank)\n",
    "#Display the output columns\n",
    "df_bank.select(outputCols_OHE).show()"
   ]
  },
  {
   "cell_type": "code",
   "execution_count": 44,
   "metadata": {},
   "outputs": [
    {
     "name": "stdout",
     "output_type": "stream",
     "text": [
      "root\n",
      " |-- age: double (nullable = true)\n",
      " |-- job: string (nullable = true)\n",
      " |-- marital: string (nullable = true)\n",
      " |-- education: string (nullable = true)\n",
      " |-- default: string (nullable = true)\n",
      " |-- balance: double (nullable = true)\n",
      " |-- housing: string (nullable = true)\n",
      " |-- loan: string (nullable = true)\n",
      " |-- contact: string (nullable = true)\n",
      " |-- day: double (nullable = true)\n",
      " |-- month: string (nullable = true)\n",
      " |-- duration: double (nullable = true)\n",
      " |-- campaign: double (nullable = true)\n",
      " |-- pdays: double (nullable = true)\n",
      " |-- previous: double (nullable = true)\n",
      " |-- poutcome: string (nullable = true)\n",
      " |-- deposit: string (nullable = true)\n",
      " |-- default_index: double (nullable = false)\n",
      " |-- poutcome_index: double (nullable = false)\n",
      " |-- deposit_index: double (nullable = false)\n",
      " |-- loan_index: double (nullable = false)\n",
      " |-- housing_index: double (nullable = false)\n",
      " |-- marital_index: double (nullable = false)\n",
      " |-- month_index: double (nullable = false)\n",
      " |-- contact_index: double (nullable = false)\n",
      " |-- education_index: double (nullable = false)\n",
      " |-- job_index: double (nullable = false)\n",
      " |-- education_index_vec: vector (nullable = true)\n",
      " |-- housing_index_vec: vector (nullable = true)\n",
      " |-- job_index_vec: vector (nullable = true)\n",
      " |-- contact_index_vec: vector (nullable = true)\n",
      " |-- loan_index_vec: vector (nullable = true)\n",
      " |-- month_index_vec: vector (nullable = true)\n",
      " |-- poutcome_index_vec: vector (nullable = true)\n",
      " |-- marital_index_vec: vector (nullable = true)\n",
      " |-- default_index_vec: vector (nullable = true)\n",
      "\n"
     ]
    }
   ],
   "source": [
    "df_bank.printSchema()"
   ]
  },
  {
   "cell_type": "code",
   "execution_count": 45,
   "metadata": {},
   "outputs": [],
   "source": [
    "df_bank = df_bank.withColumnRenamed('deposit_index','label')"
   ]
  },
  {
   "cell_type": "code",
   "execution_count": 46,
   "metadata": {},
   "outputs": [
    {
     "name": "stdout",
     "output_type": "stream",
     "text": [
      "+---------------------------------------------------------------------------------------------------------------------------------------------------+-----+\n",
      "|features                                                                                                                                           |label|\n",
      "+---------------------------------------------------------------------------------------------------------------------------------------------------+-----+\n",
      "|(51,[3,11,13,16,18,20,21,32,35,36,37,38,39,40,45,48,50],[1.0,1.0,1.0,1.0,1.0,1.0,1.0,1.0,59.0,2343.0,5.0,1042.0,1.0,-1.0,1.0,1.0,3.0])             |1.0  |\n",
      "|(51,[3,11,13,16,17,18,20,21,32,35,36,37,38,39,40,48,50],[1.0,1.0,1.0,1.0,1.0,1.0,1.0,1.0,1.0,56.0,45.0,5.0,1467.0,1.0,-1.0,1.0,3.0])               |1.0  |\n",
      "|(51,[2,11,13,16,18,20,21,32,35,36,37,38,39,40,45,48,50],[1.0,1.0,1.0,1.0,1.0,1.0,1.0,1.0,41.0,1270.0,5.0,1389.0,1.0,-1.0,1.0,1.0,2.0])             |1.0  |\n",
      "|(51,[4,11,13,16,18,20,21,32,35,36,37,38,39,40,45,48,50],[1.0,1.0,1.0,1.0,1.0,1.0,1.0,1.0,55.0,2476.0,5.0,579.0,1.0,-1.0,1.0,1.0,4.0])              |1.0  |\n",
      "|(51,[3,11,14,16,17,18,20,21,32,35,36,37,38,39,40,48,49,50],[1.0,1.0,1.0,1.0,1.0,1.0,1.0,1.0,1.0,54.0,184.0,5.0,673.0,2.0,-1.0,1.0,1.0,3.0])        |1.0  |\n",
      "|(51,[0,12,14,16,20,21,32,35,37,38,39,40,44,45,46,48,49],[1.0,1.0,1.0,1.0,1.0,1.0,1.0,42.0,5.0,562.0,2.0,-1.0,1.0,1.0,1.0,1.0,1.0])                 |1.0  |\n",
      "|(51,[0,11,14,16,20,21,32,35,36,37,38,39,40,44,45,48,49],[1.0,1.0,1.0,1.0,1.0,1.0,1.0,56.0,830.0,6.0,1201.0,1.0,-1.0,1.0,1.0,1.0,1.0])              |1.0  |\n",
      "|(51,[5,13,16,18,20,21,32,35,36,37,38,39,40,45,46,48,50],[1.0,1.0,1.0,1.0,1.0,1.0,1.0,60.0,545.0,6.0,1030.0,1.0,-1.0,1.0,2.0,1.0,5.0])              |1.0  |\n",
      "|(51,[2,11,13,16,18,20,21,32,35,36,37,38,39,40,45,48,50],[1.0,1.0,1.0,1.0,1.0,1.0,1.0,1.0,37.0,1.0,6.0,608.0,1.0,-1.0,1.0,1.0,2.0])                 |1.0  |\n",
      "|(51,[4,12,13,16,18,20,21,32,35,36,37,38,39,40,45,46,48,50],[1.0,1.0,1.0,1.0,1.0,1.0,1.0,1.0,28.0,5090.0,6.0,1297.0,3.0,-1.0,1.0,1.0,1.0,4.0])      |1.0  |\n",
      "|(51,[3,12,13,16,18,20,21,32,35,36,37,38,39,40,45,46,48,50],[1.0,1.0,1.0,1.0,1.0,1.0,1.0,1.0,38.0,100.0,7.0,786.0,1.0,-1.0,1.0,1.0,1.0,3.0])        |1.0  |\n",
      "|(51,[1,11,13,16,18,20,21,32,35,36,37,38,39,40,45,48,50],[1.0,1.0,1.0,1.0,1.0,1.0,1.0,1.0,30.0,309.0,7.0,1574.0,2.0,-1.0,1.0,1.0,1.0])              |1.0  |\n",
      "|(51,[0,11,14,16,20,21,32,35,36,37,38,39,40,44,45,48,49],[1.0,1.0,1.0,1.0,1.0,1.0,1.0,29.0,199.0,7.0,1689.0,4.0,-1.0,1.0,1.0,1.0,1.0])              |1.0  |\n",
      "|(51,[1,12,14,16,18,20,21,32,35,36,37,38,39,40,45,46,48,49,50],[1.0,1.0,1.0,1.0,1.0,1.0,1.0,1.0,46.0,460.0,7.0,1102.0,2.0,-1.0,1.0,1.0,1.0,1.0,1.0])|1.0  |\n",
      "|(51,[2,12,14,16,18,20,21,32,35,36,37,38,39,40,45,46,48,49,50],[1.0,1.0,1.0,1.0,1.0,1.0,1.0,1.0,31.0,703.0,8.0,943.0,2.0,-1.0,1.0,1.0,1.0,1.0,2.0]) |1.0  |\n",
      "|(51,[0,14,16,18,20,21,32,35,36,37,38,39,40,45,46,48,49],[1.0,1.0,1.0,1.0,1.0,1.0,1.0,35.0,3837.0,8.0,1084.0,1.0,-1.0,1.0,2.0,1.0,1.0])             |1.0  |\n",
      "|(51,[1,12,15,16,18,20,21,32,35,36,37,38,39,40,45,46,48,49,50],[1.0,1.0,1.0,1.0,1.0,1.0,1.0,1.0,32.0,611.0,8.0,541.0,3.0,-1.0,1.0,1.0,1.0,2.0,1.0]) |1.0  |\n",
      "|(51,[4,11,13,16,18,20,21,32,35,36,37,38,39,40,45,48,50],[1.0,1.0,1.0,1.0,1.0,1.0,1.0,1.0,49.0,-8.0,8.0,1119.0,1.0,-1.0,1.0,1.0,4.0])               |1.0  |\n",
      "|(51,[3,11,13,16,18,20,21,32,35,36,37,38,39,40,45,48,50],[1.0,1.0,1.0,1.0,1.0,1.0,1.0,1.0,41.0,55.0,8.0,1120.0,2.0,-1.0,1.0,1.0,3.0])               |1.0  |\n",
      "|(51,[3,13,16,20,21,32,35,36,37,38,39,40,44,45,46,48,50],[1.0,1.0,1.0,1.0,1.0,1.0,49.0,168.0,8.0,513.0,1.0,-1.0,1.0,1.0,2.0,1.0,3.0])               |1.0  |\n",
      "+---------------------------------------------------------------------------------------------------------------------------------------------------+-----+\n",
      "only showing top 20 rows\n",
      "\n"
     ]
    }
   ],
   "source": [
    "from pyspark.ml.linalg import Vectors\n",
    "from pyspark.ml.feature import VectorAssembler\n",
    "inputCols= [x for x in outputCols_OHE]\n",
    "for x in remaining_cols:\n",
    "    if x == 'deposit_index':\n",
    "        continue\n",
    "    inputCols.append(x)\n",
    "assembler = VectorAssembler(\n",
    "    inputCols=inputCols,\n",
    "    outputCol=\"features\")\n",
    "df_bank = assembler.transform(df_bank)\n",
    "#Display the output\n",
    "df_bank.select(\"features\",\"label\").show(truncate=False)"
   ]
  },
  {
   "cell_type": "code",
   "execution_count": 47,
   "metadata": {},
   "outputs": [
    {
     "name": "stdout",
     "output_type": "stream",
     "text": [
      "root\n",
      " |-- age: double (nullable = true)\n",
      " |-- job: string (nullable = true)\n",
      " |-- marital: string (nullable = true)\n",
      " |-- education: string (nullable = true)\n",
      " |-- default: string (nullable = true)\n",
      " |-- balance: double (nullable = true)\n",
      " |-- housing: string (nullable = true)\n",
      " |-- loan: string (nullable = true)\n",
      " |-- contact: string (nullable = true)\n",
      " |-- day: double (nullable = true)\n",
      " |-- month: string (nullable = true)\n",
      " |-- duration: double (nullable = true)\n",
      " |-- campaign: double (nullable = true)\n",
      " |-- pdays: double (nullable = true)\n",
      " |-- previous: double (nullable = true)\n",
      " |-- poutcome: string (nullable = true)\n",
      " |-- deposit: string (nullable = true)\n",
      " |-- default_index: double (nullable = false)\n",
      " |-- poutcome_index: double (nullable = false)\n",
      " |-- label: double (nullable = false)\n",
      " |-- loan_index: double (nullable = false)\n",
      " |-- housing_index: double (nullable = false)\n",
      " |-- marital_index: double (nullable = false)\n",
      " |-- month_index: double (nullable = false)\n",
      " |-- contact_index: double (nullable = false)\n",
      " |-- education_index: double (nullable = false)\n",
      " |-- job_index: double (nullable = false)\n",
      " |-- education_index_vec: vector (nullable = true)\n",
      " |-- housing_index_vec: vector (nullable = true)\n",
      " |-- job_index_vec: vector (nullable = true)\n",
      " |-- contact_index_vec: vector (nullable = true)\n",
      " |-- loan_index_vec: vector (nullable = true)\n",
      " |-- month_index_vec: vector (nullable = true)\n",
      " |-- poutcome_index_vec: vector (nullable = true)\n",
      " |-- marital_index_vec: vector (nullable = true)\n",
      " |-- default_index_vec: vector (nullable = true)\n",
      " |-- features: vector (nullable = true)\n",
      "\n"
     ]
    }
   ],
   "source": [
    "df_bank.printSchema()"
   ]
  },
  {
   "cell_type": "code",
   "execution_count": 48,
   "metadata": {},
   "outputs": [],
   "source": [
    "train, test = df_bank.randomSplit([0.9, 0.1], seed=12345)"
   ]
  },
  {
   "cell_type": "code",
   "execution_count": 49,
   "metadata": {},
   "outputs": [],
   "source": [
    "#Implementing the Logistic Regression\n",
    "from pyspark.ml.classification import LogisticRegression\n",
    "\n",
    "# Create a LogisticRegression instance. This instance is an Estimator.\n",
    "lr = LogisticRegression(featuresCol='features',labelCol='label')\n",
    "model = lr.fit(train)"
   ]
  },
  {
   "cell_type": "code",
   "execution_count": 50,
   "metadata": {},
   "outputs": [
    {
     "name": "stdout",
     "output_type": "stream",
     "text": [
      "+------------------------------------------------------------------------------------------------------------------------------------------------------------------+-----+----------+\n",
      "|features                                                                                                                                                          |label|prediction|\n",
      "+------------------------------------------------------------------------------------------------------------------------------------------------------------------+-----+----------+\n",
      "|(51,[7,11,16,17,18,19,22,33,35,36,37,38,39,40,41,43,47,49,50],[1.0,1.0,1.0,1.0,1.0,1.0,1.0,1.0,20.0,292.0,5.0,385.0,2.0,93.0,1.0,1.0,1.0,3.0,7.0])                |1.0  |1.0       |\n",
      "|(51,[7,12,16,17,18,19,32,35,36,37,38,39,40,46,47,49,50],[1.0,1.0,1.0,1.0,1.0,1.0,1.0,20.0,755.0,29.0,284.0,1.0,-1.0,1.0,11.0,3.0,7.0])                            |1.0  |1.0       |\n",
      "|(51,[7,12,15,16,17,18,29,34,35,36,37,38,39,40,41,43,46,47,48,49,50],[1.0,1.0,1.0,1.0,1.0,1.0,1.0,1.0,21.0,423.0,18.0,287.0,5.0,285.0,5.0,2.0,1.0,8.0,2.0,2.0,7.0])|1.0  |1.0       |\n",
      "|(51,[7,12,13,16,17,18,19,22,32,35,36,37,38,39,40,46,47,50],[1.0,1.0,1.0,1.0,1.0,1.0,1.0,1.0,1.0,22.0,144.0,21.0,116.0,1.0,-1.0,1.0,1.0,7.0])                      |1.0  |0.0       |\n",
      "|(51,[7,12,13,16,17,18,19,27,34,35,36,37,38,39,40,41,43,46,47,50],[1.0,1.0,1.0,1.0,1.0,1.0,1.0,1.0,1.0,22.0,216.0,8.0,363.0,1.0,187.0,1.0,2.0,1.0,6.0,7.0])        |1.0  |1.0       |\n",
      "|(51,[3,12,14,16,17,19,26,32,35,36,37,38,39,40,44,46,47,49,50],[1.0,1.0,1.0,1.0,1.0,1.0,1.0,1.0,23.0,314.0,8.0,142.0,4.0,-1.0,1.0,1.0,5.0,1.0,3.0])                |1.0  |0.0       |\n",
      "|(51,[1,12,13,16,18,20,24,32,35,36,37,38,39,40,45,46,47,48,50],[1.0,1.0,1.0,1.0,1.0,1.0,1.0,1.0,23.0,492.0,4.0,638.0,1.0,-1.0,1.0,1.0,3.0,1.0,1.0])                |1.0  |1.0       |\n",
      "|(51,[3,12,14,16,18,19,23,32,35,36,37,38,39,40,45,46,47,49,50],[1.0,1.0,1.0,1.0,1.0,1.0,1.0,1.0,24.0,674.0,6.0,267.0,1.0,-1.0,1.0,1.0,2.0,1.0,3.0])                |1.0  |0.0       |\n",
      "|(51,[0,12,14,16,17,18,19,31,32,35,36,37,38,39,40,46,47,49],[1.0,1.0,1.0,1.0,1.0,1.0,1.0,1.0,1.0,24.0,1030.0,4.0,396.0,2.0,-1.0,1.0,10.0,1.0])                     |1.0  |1.0       |\n",
      "|(51,[0,12,14,16,17,18,19,24,34,35,36,37,38,39,40,41,43,46,47,49],[1.0,1.0,1.0,1.0,1.0,1.0,1.0,1.0,1.0,24.0,1506.0,12.0,239.0,2.0,95.0,4.0,2.0,1.0,3.0,1.0])       |1.0  |1.0       |\n",
      "|(51,[4,12,16,17,18,19,26,32,35,36,37,38,39,40,46,47,49,50],[1.0,1.0,1.0,1.0,1.0,1.0,1.0,1.0,24.0,2022.0,23.0,159.0,4.0,-1.0,1.0,5.0,3.0,4.0])                     |1.0  |0.0       |\n",
      "|(51,[7,12,15,16,17,18,19,26,32,35,36,37,38,39,40,46,47,49,50],[1.0,1.0,1.0,1.0,1.0,1.0,1.0,1.0,1.0,24.0,474.0,30.0,551.0,1.0,-1.0,1.0,5.0,2.0,7.0])               |1.0  |1.0       |\n",
      "|(51,[3,12,13,16,17,18,19,24,32,35,36,37,38,39,40,46,47,50],[1.0,1.0,1.0,1.0,1.0,1.0,1.0,1.0,1.0,25.0,1871.0,4.0,136.0,1.0,-1.0,1.0,3.0,3.0])                      |1.0  |1.0       |\n",
      "|(51,[1,12,13,16,18,20,24,32,35,36,37,38,39,40,45,46,47,48,50],[1.0,1.0,1.0,1.0,1.0,1.0,1.0,1.0,25.0,-191.0,19.0,958.0,7.0,-1.0,1.0,1.0,3.0,1.0,1.0])              |1.0  |1.0       |\n",
      "|(51,[1,12,13,16,17,19,23,32,35,36,37,38,39,40,44,46,47,50],[1.0,1.0,1.0,1.0,1.0,1.0,1.0,1.0,25.0,189.0,8.0,687.0,2.0,-1.0,1.0,1.0,2.0,1.0])                       |1.0  |1.0       |\n",
      "|(51,[0,11,14,16,19,21,35,36,37,38,39,40,41,43,44,45,49],[1.0,1.0,1.0,1.0,1.0,1.0,25.0,-242.0,18.0,600.0,4.0,332.0,4.0,3.0,1.0,1.0,1.0])                           |1.0  |1.0       |\n",
      "|(51,[0,12,14,16,17,18,19,26,32,35,36,37,38,39,40,46,47,49],[1.0,1.0,1.0,1.0,1.0,1.0,1.0,1.0,1.0,25.0,943.0,30.0,512.0,1.0,-1.0,1.0,5.0,1.0])                      |1.0  |1.0       |\n",
      "|(51,[0,12,14,16,17,18,19,27,32,35,36,37,38,39,40,46,47,49],[1.0,1.0,1.0,1.0,1.0,1.0,1.0,1.0,1.0,25.0,2506.0,17.0,485.0,1.0,-1.0,1.0,6.0,1.0])                     |1.0  |1.0       |\n",
      "|(51,[4,12,13,16,17,19,23,32,35,36,37,38,39,40,44,46,47,50],[1.0,1.0,1.0,1.0,1.0,1.0,1.0,1.0,25.0,2311.0,21.0,1105.0,2.0,-1.0,1.0,1.0,2.0,4.0])                    |1.0  |1.0       |\n",
      "|(51,[7,12,13,16,17,18,19,21,32,35,36,37,38,39,40,46,50],[1.0,1.0,1.0,1.0,1.0,1.0,1.0,1.0,1.0,25.0,304.0,26.0,226.0,2.0,-1.0,1.0,7.0])                             |1.0  |1.0       |\n",
      "+------------------------------------------------------------------------------------------------------------------------------------------------------------------+-----+----------+\n",
      "only showing top 20 rows\n",
      "\n"
     ]
    }
   ],
   "source": [
    "predicted_data = model.transform(test)\n",
    "predicted_data.select('features','label','prediction').filter(predicted_data.label==1).show(truncate = False)"
   ]
  },
  {
   "cell_type": "code",
   "execution_count": 51,
   "metadata": {},
   "outputs": [
    {
     "data": {
      "text/plain": [
       "0.8266229247440103"
      ]
     },
     "execution_count": 51,
     "metadata": {},
     "output_type": "execute_result"
    }
   ],
   "source": [
    "trainingSummary = model.summary\n",
    "trainingSummary.accuracy"
   ]
  },
  {
   "cell_type": "markdown",
   "metadata": {},
   "source": [
    "# Step 3: Pipeline API <a class=\"anchor\" name=\"pipeline\"></a> "
   ]
  },
  {
   "cell_type": "code",
   "execution_count": 52,
   "metadata": {},
   "outputs": [],
   "source": [
    "df_bank = spark.read.format('csv')\\\n",
    "            .option('header',True).option('escape','\"')\\\n",
    "            .load('bank.csv')\n",
    "for x in [\"age\",\"balance\",\"day\",\"duration\",\"campaign\",\"pdays\",\"previous\"]:\n",
    "    df_bank = df_bank.withColumn(x, df_bank[x].cast(DoubleType()))\n",
    "\n",
    "train, test = df_bank.randomSplit([0.9, 0.1], seed=12345)"
   ]
  },
  {
   "cell_type": "code",
   "execution_count": 53,
   "metadata": {},
   "outputs": [],
   "source": [
    "#Write your code here\n",
    "from pyspark.ml.classification import LogisticRegression\n",
    "from pyspark.ml import Pipeline\n",
    "from pyspark.ml.feature import StringIndexer\n",
    "\n",
    "cols = [\"job\",\"marital\",\"education\",\"default\",\"housing\",\"loan\",\"contact\",\"month\",\"poutcome\",\"deposit\"]\n",
    "input_columns = [x for x in input_columns]\n",
    "output_columns = [f'{x}_index' for x in input_columns]\n",
    "stage_1 = StringIndexer(inputCols=input_columns, outputCols=output_columns)"
   ]
  },
  {
   "cell_type": "code",
   "execution_count": 54,
   "metadata": {},
   "outputs": [],
   "source": [
    "inputCols_OHE = [x for x in output_columns if x != 'deposit_index']\n",
    "outputCols_OHE = [f'{x}_vec' for x in inputCols_OHE]\n",
    "\n",
    "stage_2 = OneHotEncoder(inputCols=inputCols_OHE,\n",
    "                        outputCols=outputCols_OHE)"
   ]
  },
  {
   "cell_type": "code",
   "execution_count": 55,
   "metadata": {},
   "outputs": [],
   "source": [
    "inputCols= [x for x in outputCols_OHE]\n",
    "for x in remaining_cols:\n",
    "    if x == 'deposit_index':\n",
    "        continue\n",
    "    inputCols.append(x)\n",
    "\n",
    "stage_3 = VectorAssembler(\n",
    "    inputCols=inputCols,\n",
    "    outputCol=\"features\")\n"
   ]
  },
  {
   "cell_type": "code",
   "execution_count": 56,
   "metadata": {},
   "outputs": [
    {
     "name": "stdout",
     "output_type": "stream",
     "text": [
      "+-----------------------------------------+----------+-------------+\n",
      "|probability                              |prediction|deposit_index|\n",
      "+-----------------------------------------+----------+-------------+\n",
      "|[0.26941501564430786,0.7305849843556921] |1.0       |1.0          |\n",
      "|[0.453231784908046,0.546768215091954]    |1.0       |0.0          |\n",
      "|[0.057484846407968956,0.9425151535920311]|1.0       |1.0          |\n",
      "|[0.5550345123859737,0.44496548761402643] |0.0       |0.0          |\n",
      "|[0.11570966129330808,0.8842903387066919] |1.0       |1.0          |\n",
      "|[0.35756620646810433,0.6424337935318958] |1.0       |0.0          |\n",
      "|[0.589298541836674,0.41070145816332604]  |0.0       |1.0          |\n",
      "|[0.016539676451745065,0.9834603235482549]|1.0       |1.0          |\n",
      "|[0.9222469825584919,0.07775301744150821] |0.0       |0.0          |\n",
      "|[0.6482328938013601,0.35176710619864]    |0.0       |1.0          |\n",
      "|[0.40918660366576415,0.5908133963342358] |1.0       |1.0          |\n",
      "|[0.5022303788545778,0.4977696211454222]  |0.0       |0.0          |\n",
      "|[0.6888302774910156,0.31116972250898445] |0.0       |1.0          |\n",
      "|[0.04142413960839777,0.9585758603916023] |1.0       |1.0          |\n",
      "|[0.0400815823947414,0.9599184176052586]  |1.0       |1.0          |\n",
      "|[0.5857682843485693,0.41423171565143063] |0.0       |1.0          |\n",
      "|[0.06336592022682341,0.9366340797731766] |1.0       |1.0          |\n",
      "|[0.8912780721957784,0.1087219278042216]  |0.0       |0.0          |\n",
      "|[0.4676417463938485,0.5323582536061514]  |1.0       |1.0          |\n",
      "|[0.9766222155337455,0.023377784466254492]|0.0       |0.0          |\n",
      "+-----------------------------------------+----------+-------------+\n",
      "only showing top 20 rows\n",
      "\n"
     ]
    }
   ],
   "source": [
    "stage_4 = LogisticRegression(featuresCol='features',labelCol='deposit_index')\n",
    "\n",
    "#plug the stages into the pipline\n",
    "#train the model\n",
    "#generate the predictions\n",
    "pipeline = Pipeline(stages=[stage_1,stage_2,stage_3,stage_4])\n",
    "model = pipeline.fit(train)\n",
    "\n",
    "# Make predictions on test documents and print columns of interest.\n",
    "prediction = model.transform(test)\n",
    "selected = prediction.select(\"probability\",\"prediction\",\"deposit_index\").show(truncate=False)\n",
    "\n"
   ]
  },
  {
   "cell_type": "markdown",
   "metadata": {},
   "source": [
    "### Step 4: Train/Test Split <a class=\"anchor\" name=\"train-test\"></a> \n",
    "#### Use <code>seed</code> while splitting data to identify different sets of train/test splits."
   ]
  },
  {
   "cell_type": "code",
   "execution_count": 28,
   "metadata": {},
   "outputs": [],
   "source": [
    "train, test = df_bank.randomSplit([0.9, 0.1], seed=12345)"
   ]
  },
  {
   "cell_type": "code",
   "execution_count": 24,
   "metadata": {},
   "outputs": [
    {
     "name": "stdout",
     "output_type": "stream",
     "text": [
      "+----+-----------+--------+---------+-------+-------+-------+----+-------+---+-----+--------+--------+-----+--------+--------+-------+\n",
      "| age|        job| marital|education|default|balance|housing|loan|contact|day|month|duration|campaign|pdays|previous|poutcome|deposit|\n",
      "+----+-----------+--------+---------+-------+-------+-------+----+-------+---+-----+--------+--------+-----+--------+--------+-------+\n",
      "|59.0|     admin.| married|secondary|     no| 2343.0|    yes|  no|unknown|5.0|  may|  1042.0|     1.0| -1.0|     0.0| unknown|    yes|\n",
      "|56.0|     admin.| married|secondary|     no|   45.0|     no|  no|unknown|5.0|  may|  1467.0|     1.0| -1.0|     0.0| unknown|    yes|\n",
      "|41.0| technician| married|secondary|     no| 1270.0|    yes|  no|unknown|5.0|  may|  1389.0|     1.0| -1.0|     0.0| unknown|    yes|\n",
      "|55.0|   services| married|secondary|     no| 2476.0|    yes|  no|unknown|5.0|  may|   579.0|     1.0| -1.0|     0.0| unknown|    yes|\n",
      "|54.0|     admin.| married| tertiary|     no|  184.0|     no|  no|unknown|5.0|  may|   673.0|     2.0| -1.0|     0.0| unknown|    yes|\n",
      "|42.0| management|  single| tertiary|     no|    0.0|    yes| yes|unknown|5.0|  may|   562.0|     2.0| -1.0|     0.0| unknown|    yes|\n",
      "|56.0| management| married| tertiary|     no|  830.0|    yes| yes|unknown|6.0|  may|  1201.0|     1.0| -1.0|     0.0| unknown|    yes|\n",
      "|60.0|    retired|divorced|secondary|     no|  545.0|    yes|  no|unknown|6.0|  may|  1030.0|     1.0| -1.0|     0.0| unknown|    yes|\n",
      "|37.0| technician| married|secondary|     no|    1.0|    yes|  no|unknown|6.0|  may|   608.0|     1.0| -1.0|     0.0| unknown|    yes|\n",
      "|28.0|   services|  single|secondary|     no| 5090.0|    yes|  no|unknown|6.0|  may|  1297.0|     3.0| -1.0|     0.0| unknown|    yes|\n",
      "|38.0|     admin.|  single|secondary|     no|  100.0|    yes|  no|unknown|7.0|  may|   786.0|     1.0| -1.0|     0.0| unknown|    yes|\n",
      "|30.0|blue-collar| married|secondary|     no|  309.0|    yes|  no|unknown|7.0|  may|  1574.0|     2.0| -1.0|     0.0| unknown|    yes|\n",
      "|29.0| management| married| tertiary|     no|  199.0|    yes| yes|unknown|7.0|  may|  1689.0|     4.0| -1.0|     0.0| unknown|    yes|\n",
      "|46.0|blue-collar|  single| tertiary|     no|  460.0|    yes|  no|unknown|7.0|  may|  1102.0|     2.0| -1.0|     0.0| unknown|    yes|\n",
      "|31.0| technician|  single| tertiary|     no|  703.0|    yes|  no|unknown|8.0|  may|   943.0|     2.0| -1.0|     0.0| unknown|    yes|\n",
      "|35.0| management|divorced| tertiary|     no| 3837.0|    yes|  no|unknown|8.0|  may|  1084.0|     1.0| -1.0|     0.0| unknown|    yes|\n",
      "|32.0|blue-collar|  single|  primary|     no|  611.0|    yes|  no|unknown|8.0|  may|   541.0|     3.0| -1.0|     0.0| unknown|    yes|\n",
      "|49.0|   services| married|secondary|     no|   -8.0|    yes|  no|unknown|8.0|  may|  1119.0|     1.0| -1.0|     0.0| unknown|    yes|\n",
      "|41.0|     admin.| married|secondary|     no|   55.0|    yes|  no|unknown|8.0|  may|  1120.0|     2.0| -1.0|     0.0| unknown|    yes|\n",
      "|49.0|     admin.|divorced|secondary|     no|  168.0|    yes| yes|unknown|8.0|  may|   513.0|     1.0| -1.0|     0.0| unknown|    yes|\n",
      "+----+-----------+--------+---------+-------+-------+-------+----+-------+---+-----+--------+--------+-----+--------+--------+-------+\n",
      "only showing top 20 rows\n",
      "\n"
     ]
    }
   ],
   "source": [
    "df_bank.show()"
   ]
  },
  {
   "cell_type": "code",
   "execution_count": 27,
   "metadata": {},
   "outputs": [],
   "source": [
    "from pyspark.ml.classification import DecisionTreeClassifier\n",
    "\n"
   ]
  },
  {
   "cell_type": "code",
   "execution_count": 31,
   "metadata": {},
   "outputs": [],
   "source": [
    "### same pipeline follows except for stage 4 . Include decision tree classifier in stage 4 \n",
    "stage_4_dc= DecisionTreeClassifier(featuresCol = 'features', labelCol = 'deposit_index', maxDepth = 3)\n",
    "\n",
    "pipeline = Pipeline(stages=[stage_1,stage_2,stage_3,stage_4_dc])\n",
    "model_dec_tree = pipeline.fit(train)\n"
   ]
  },
  {
   "cell_type": "code",
   "execution_count": 59,
   "metadata": {},
   "outputs": [
    {
     "name": "stdout",
     "output_type": "stream",
     "text": [
      "+----------------------------------------+----------+-------------+\n",
      "|probability                             |prediction|deposit_index|\n",
      "+----------------------------------------+----------+-------------+\n",
      "|[0.3914209115281501,0.6085790884718498] |1.0       |1.0          |\n",
      "|[0.8353033884948778,0.16469661150512213]|0.0       |0.0          |\n",
      "|[0.3914209115281501,0.6085790884718498] |1.0       |1.0          |\n",
      "|[0.8353033884948778,0.16469661150512213]|0.0       |0.0          |\n",
      "|[0.3914209115281501,0.6085790884718498] |1.0       |1.0          |\n",
      "|[0.8353033884948778,0.16469661150512213]|0.0       |0.0          |\n",
      "|[0.8353033884948778,0.16469661150512213]|0.0       |1.0          |\n",
      "|[0.3914209115281501,0.6085790884718498] |1.0       |1.0          |\n",
      "|[0.8353033884948778,0.16469661150512213]|0.0       |0.0          |\n",
      "|[0.8353033884948778,0.16469661150512213]|0.0       |1.0          |\n",
      "|[0.1918050158954433,0.8081949841045567] |1.0       |1.0          |\n",
      "|[0.8353033884948778,0.16469661150512213]|0.0       |0.0          |\n",
      "|[0.3914209115281501,0.6085790884718498] |1.0       |1.0          |\n",
      "|[0.3914209115281501,0.6085790884718498] |1.0       |1.0          |\n",
      "|[0.3914209115281501,0.6085790884718498] |1.0       |1.0          |\n",
      "|[0.8353033884948778,0.16469661150512213]|0.0       |1.0          |\n",
      "|[0.1918050158954433,0.8081949841045567] |1.0       |1.0          |\n",
      "|[0.9318181818181818,0.06818181818181818]|0.0       |0.0          |\n",
      "|[0.8353033884948778,0.16469661150512213]|0.0       |1.0          |\n",
      "|[0.8353033884948778,0.16469661150512213]|0.0       |0.0          |\n",
      "+----------------------------------------+----------+-------------+\n",
      "only showing top 20 rows\n",
      "\n"
     ]
    }
   ],
   "source": [
    "dtPredictions = model_dec_tree.transform(test)\n",
    "#WRITE CODE to Display the predictions\n",
    "dtPredictions.select(\"probability\",\"prediction\",\"deposit_index\").show(truncate = False)"
   ]
  },
  {
   "cell_type": "markdown",
   "metadata": {},
   "source": [
    "### Random Forest <a class=\"anchor\" name=\"rf\"></a>"
   ]
  },
  {
   "cell_type": "code",
   "execution_count": 63,
   "metadata": {},
   "outputs": [],
   "source": [
    "# WRITE CODE: Implement Random Forest Classifier\n",
    "from pyspark.ml.classification import RandomForestClassifier\n",
    "#WRITE CODE : Create a Random Forest Classiication model and train it\n",
    "\n",
    "### same pipeline follows except for stage 4 . Include random forest  classifier in stage 4 \n",
    "stage_4_Random_Forest= RandomForestClassifier(labelCol=\"deposit_index\", featuresCol=\"features\", numTrees=10)\n",
    "\n",
    "pipeline = Pipeline(stages=[stage_1,stage_2,stage_3,stage_4_Random_Forest])\n",
    "model_random_forest = pipeline.fit(train)\n"
   ]
  },
  {
   "cell_type": "code",
   "execution_count": 65,
   "metadata": {},
   "outputs": [
    {
     "name": "stdout",
     "output_type": "stream",
     "text": [
      "+--------------------+----------+-------------+\n",
      "|         probability|prediction|deposit_index|\n",
      "+--------------------+----------+-------------+\n",
      "|[0.34187914324964...|       1.0|          1.0|\n",
      "|[0.36368544353585...|       1.0|          0.0|\n",
      "|[0.40725529806292...|       1.0|          1.0|\n",
      "|[0.53996081232970...|       0.0|          0.0|\n",
      "|[0.16976551684213...|       1.0|          1.0|\n",
      "+--------------------+----------+-------------+\n",
      "only showing top 5 rows\n",
      "\n"
     ]
    }
   ],
   "source": [
    "#WRITE CODE : get the predictions for the test data\n",
    "predictions = model_random_forest.transform(test)\n",
    "predictions.select(\"probability\",\"prediction\",\"deposit_index\").show(5)"
   ]
  },
  {
   "cell_type": "markdown",
   "metadata": {},
   "source": [
    "### Logistic Regression <a class=\"anchor\" name=\"lr\"></a>\n",
    "*Logistic Regression* is a classification algorithm. It is used to predict a binary outcome (1 / 0, Yes / No, True / False) given a set of independent variables. To represent binary/categorical outcome, we use dummy variables. You can also think of logistic regression as a special case of linear regression when the outcome variable is categorical, where we are using log of odds as dependent variable. In simple words, it predicts the probability of occurrence of an event by fitting data to a logit function."
   ]
  },
  {
   "cell_type": "code",
   "execution_count": 66,
   "metadata": {},
   "outputs": [],
   "source": [
    "# Implement Logistic Regression Classifier\n",
    "from pyspark.ml.classification import LogisticRegression\n",
    "\n",
    "#Create an initial model using the train set.\n",
    "\n",
    "\n",
    "stage_4_lgreg = LogisticRegression(featuresCol='features',labelCol='deposit_index')\n",
    "pipeline = Pipeline(stages=[stage_1,stage_2,stage_3,stage_4_lgreg])\n",
    "model_lg_reg = pipeline.fit(train)\n"
   ]
  },
  {
   "cell_type": "code",
   "execution_count": 68,
   "metadata": {},
   "outputs": [
    {
     "name": "stdout",
     "output_type": "stream",
     "text": [
      "+--------------------+----------+-------------+\n",
      "|         probability|prediction|deposit_index|\n",
      "+--------------------+----------+-------------+\n",
      "|[0.26941501564430...|       1.0|          1.0|\n",
      "|[0.45323178490804...|       1.0|          0.0|\n",
      "|[0.05748484640796...|       1.0|          1.0|\n",
      "|[0.55503451238597...|       0.0|          0.0|\n",
      "|[0.11570966129330...|       1.0|          1.0|\n",
      "|[0.35756620646810...|       1.0|          0.0|\n",
      "|[0.58929854183667...|       0.0|          1.0|\n",
      "|[0.01653967645174...|       1.0|          1.0|\n",
      "|[0.92224698255849...|       0.0|          0.0|\n",
      "|[0.64823289380136...|       0.0|          1.0|\n",
      "|[0.40918660366576...|       1.0|          1.0|\n",
      "|[0.50223037885457...|       0.0|          0.0|\n",
      "|[0.68883027749101...|       0.0|          1.0|\n",
      "|[0.04142413960839...|       1.0|          1.0|\n",
      "|[0.04008158239474...|       1.0|          1.0|\n",
      "|[0.58576828434856...|       0.0|          1.0|\n",
      "|[0.06336592022682...|       1.0|          1.0|\n",
      "|[0.89127807219577...|       0.0|          0.0|\n",
      "|[0.46764174639384...|       1.0|          1.0|\n",
      "|[0.97662221553374...|       0.0|          0.0|\n",
      "+--------------------+----------+-------------+\n",
      "only showing top 20 rows\n",
      "\n"
     ]
    }
   ],
   "source": [
    "# Write the Predictions for test data and display the predictions\n",
    "predicted_data = model_lg_reg.transform(test)\n",
    "predicted_data.select(\"probability\",\"prediction\",\"deposit_index\").show()"
   ]
  },
  {
   "cell_type": "markdown",
   "metadata": {},
   "source": [
    "## Model Evaluation <a class=\"anchor\" name=\"model-evaluation\"></a>\n",
    "<hr />\n",
    "Our goal is not just to build a model, it is about selecting a model which gives high accuracy on our sample data. There are different kinds of evaluation metrics, the choice of these depend on the type and implementation plan. More details on evaluation metrics for classification in Spark can be found <a href=\"https://spark.apache.org/docs/latest/mllib-evaluation-metrics.html\" target=\"_BLANK\">here</a>.\n",
    "We are going to cover the following evaluation in this session:\n",
    "\n",
    "<ul>\n",
    "    <li>\n",
    "        Confusion Matrix\n",
    "        <ul>\n",
    "            <li>Accuracy</li>\n",
    "            <li>Precision</li>\n",
    "            <li>Recall</li>\n",
    "            <li>F1-Score</li>\n",
    "        </ul>\n",
    "    </li>\n",
    "    <li>AUC-ROC</li>        \n",
    "    </ul>\n",
    "\n",
    "#### Accuracy\n",
    "<span style=\"color:red;font-weight:bold\">Accuracy is useful when the target class is well balanced but is not a good choice with unbalanced classes.</span> For example, if a model is designed to predict fraud from a dataset where 95% of the data points are not fraud and 5% of the data points are fraud, then a naive classifier that predicts not fraud, regardless of input, will be 95% accurate. For this reason, metrics like precision and recall are typically used because they take into account the type of error. In most applications there is some desired balance between precision and recall, which can be captured by combining the two into a single metric, called the F-measure."
   ]
  },
  {
   "attachments": {
    "image.png": {
     "image/png": "[encoded data removed]"
    }
   },
   "cell_type": "markdown",
   "metadata": {},
   "source": [
    "#### Confusion Matrix <a class=\"anchor\" name=\"confusion-matrix\"></a>\n",
    "\n",
    "Confusion Matrix is a performance measurement for machine learning classification problem where output can be two or more classes. It is a table with 4 different combinations of predicted and actual values as shown in the picture below where T/F refers to true and positive respectively, and P/N to positive and negative respectively.\n",
    "<div>\n",
    "    <div style=\"float:left;width:50%\">\n",
    "<img src=\"attachment:image.png\">\n",
    "    </div>\n",
    "    <div style=\"float:right;width:50%;padding-top:50px\">\n",
    "    <img src=\"https://miro.medium.com/max/1400/1*UVP_xb4F6J-M-xH3haz5Jw.png\">\n",
    "    </div>\n",
    "    <div style=\"clear:both\"></div>\n",
    "    </div>\n",
    "\n",
    "From the confusion matrix, we can obtain the following indicators.\n",
    "\n",
    "- **Recall:** Out of all the positive classes, how much we predicted correctly. It should be high as possible.\n",
    "- **Precision:** Out of all the positive classes we have predicted correctly, how many are actually positive.\n",
    "- **Accuracy:** Out of all the classes, how much we predicted correctly. It should be high as possible.\n",
    "- **F1-Score : Combining Precision and Accuracy:** It is the weighted average of Precision and Recall. It takes both <strong>False Positives</strong> and <strong>False Negative </strong> into account."
   ]
  },
  {
   "cell_type": "code",
   "execution_count": 207,
   "metadata": {},
   "outputs": [
    {
     "name": "stdout",
     "output_type": "stream",
     "text": [
      "+-----+----------+-----+\n",
      "|label|prediction|count|\n",
      "+-----+----------+-----+\n",
      "|  1.0|       1.0|  253|\n",
      "|  0.0|       1.0|   80|\n",
      "|  1.0|       0.0|  265|\n",
      "|  0.0|       0.0|  505|\n",
      "+-----+----------+-----+\n",
      "\n",
      "Accuracy: 0.6872166817769719\n",
      "Precision: 0.7597597597597597\n",
      "Recall: 0.48841698841698844\n",
      "F-1 Score: 0.5945945945945946\n"
     ]
    }
   ],
   "source": [
    "# Calculate the elements of the confusion matrix\n",
    "TN = dtPredictions.filter('prediction = 0 AND label = 0').count()\n",
    "TP = dtPredictions.filter('prediction = 1 AND label = 1').count()\n",
    "FN = dtPredictions.filter('prediction = 0 AND label = 1').count()#WRITE CODE to find the False Negative\n",
    "FP = dtPredictions.filter('prediction = 1 AND label = 0').count()#WRITE CODE to find the False Positive\n",
    "\n",
    "# show confusion matrix\n",
    "dtPredictions.groupBy('label', 'prediction').count().show()\n",
    "# calculate metrics by the confusion matrix\n",
    "accuracy = (TP+TN)/(TP+TN+FP+FN)#WRITE CODE : formula to find accuracy\n",
    "precision = TP/(TP+FP)#WRITE CODE : formula to find precision\n",
    "recall = TP/(TP+FN)#WRITE CODE : formula to find recall\n",
    "f1 = 2/((1/recall) + (1/precision))#WRITE CODE : formula to find F1-score\n",
    "\n",
    "#Display the various metrics calculated above\n",
    "print(\"Accuracy: \" + str(accuracy))\n",
    "print(\"Precision: \" + str(precision))\n",
    "print(\"Recall: \" + str(recall))\n",
    "print(\"F-1 Score: \" + str(f1))"
   ]
  },
  {
   "cell_type": "code",
   "execution_count": 208,
   "metadata": {},
   "outputs": [],
   "source": [
    "def compute_metrics(predictions):\n",
    "    #WRITE CODE: to calculate accuracy,precision,recall and f1 based on above example\n",
    "    TN = predictions.filter('prediction = 0 AND label = 0').count()\n",
    "    TP = predictions.filter('prediction = 1 AND label = 1').count()\n",
    "    FN = predictions.filter('prediction = 0 AND label = 1').count()#WRITE CODE to find the False Negative\n",
    "    FP = predictions.filter('prediction = 1 AND label = 0').count()#WRITE CODE to find the False Positive\n",
    "\n",
    "    # show confusion matrix\n",
    "    dtPredictions.groupBy('label', 'prediction').count().show()\n",
    "    # calculate metrics by the confusion matrix\n",
    "    accuracy = (TP+TN)/(TP+TN+FP+FN)#WRITE CODE : formula to find accuracy\n",
    "    precision = TP/(TP+FP)#WRITE CODE : formula to find precision\n",
    "    recall = TP/(TP+FN)#WRITE CODE : formula to find recall\n",
    "    f1 = 2/((1/recall) + (1/precision))#WRITE CODE : formula to find F1-score\n",
    "    return accuracy,precision,recall,f1    "
   ]
  },
  {
   "cell_type": "code",
   "execution_count": 209,
   "metadata": {},
   "outputs": [
    {
     "name": "stdout",
     "output_type": "stream",
     "text": [
      "+-----+----------+-----+\n",
      "|label|prediction|count|\n",
      "+-----+----------+-----+\n",
      "|  1.0|       1.0|  253|\n",
      "|  0.0|       1.0|   80|\n",
      "|  1.0|       0.0|  265|\n",
      "|  0.0|       0.0|  505|\n",
      "+-----+----------+-----+\n",
      "\n",
      "Decision Tree: (0.6872166817769719, 0.7597597597597597, 0.48841698841698844, 0.5945945945945946)\n",
      "+-----+----------+-----+\n",
      "|label|prediction|count|\n",
      "+-----+----------+-----+\n",
      "|  1.0|       1.0|  253|\n",
      "|  0.0|       1.0|   80|\n",
      "|  1.0|       0.0|  265|\n",
      "|  0.0|       0.0|  505|\n",
      "+-----+----------+-----+\n",
      "\n",
      "Random Forest Classifier: (0.6990027198549411, 0.7162790697674418, 0.5945945945945946, 0.649789029535865)\n",
      "+-----+----------+-----+\n",
      "|label|prediction|count|\n",
      "+-----+----------+-----+\n",
      "|  1.0|       1.0|  253|\n",
      "|  0.0|       1.0|   80|\n",
      "|  1.0|       0.0|  265|\n",
      "|  0.0|       0.0|  505|\n",
      "+-----+----------+-----+\n",
      "\n",
      "Logistic Regression: (0.6727107887579329, 0.6740576496674058, 0.5868725868725869, 0.6274509803921569)\n"
     ]
    }
   ],
   "source": [
    "#Print the accuracy,precision,recall and f1 scores for each Classification algorithm, using the function created\n",
    "print(\"Decision Tree: \" +str(compute_metrics(dtPredictions)))\n",
    "print(\"Random Forest Classifier: \" + str(compute_metrics(predictions)))\n",
    "print(\"Logistic Regression: \" + str(compute_metrics(predicted_data)))"
   ]
  },
  {
   "cell_type": "code",
   "execution_count": 212,
   "metadata": {},
   "outputs": [],
   "source": [
    "import matplotlib.pyplot as plt\n",
    "def plot_metrics(x,y):\n",
    "    plt.style.use('ggplot')   \n",
    "    x_pos = [i for i, _ in enumerate(x)]\n",
    "    plt.bar(x_pos, y, color='blue')\n",
    "    plt.xlabel(\"Classification Algorithms\")\n",
    "    plt.ylabel(\"AUC\")\n",
    "    plt.title(\"Accuracy of ML Classification Algorithms\")\n",
    "    plt.xticks(x_pos, x)\n",
    "    plt.show()"
   ]
  },
  {
   "cell_type": "code",
   "execution_count": 213,
   "metadata": {},
   "outputs": [
    {
     "name": "stdout",
     "output_type": "stream",
     "text": [
      "+-----+----------+-----+\n",
      "|label|prediction|count|\n",
      "+-----+----------+-----+\n",
      "|  1.0|       1.0|  253|\n",
      "|  0.0|       1.0|   80|\n",
      "|  1.0|       0.0|  265|\n",
      "|  0.0|       0.0|  505|\n",
      "+-----+----------+-----+\n",
      "\n",
      "+-----+----------+-----+\n",
      "|label|prediction|count|\n",
      "+-----+----------+-----+\n",
      "|  1.0|       1.0|  253|\n",
      "|  0.0|       1.0|   80|\n",
      "|  1.0|       0.0|  265|\n",
      "|  0.0|       0.0|  505|\n",
      "+-----+----------+-----+\n",
      "\n",
      "+-----+----------+-----+\n",
      "|label|prediction|count|\n",
      "+-----+----------+-----+\n",
      "|  1.0|       1.0|  253|\n",
      "|  0.0|       1.0|   80|\n",
      "|  1.0|       0.0|  265|\n",
      "|  0.0|       0.0|  505|\n",
      "+-----+----------+-----+\n",
      "\n"
     ]
    },
    {
     "data": {
      "image/png": "[encoded data removed]",
      "text/plain": [
       "<Figure size 432x288 with 1 Axes>"
      ]
     },
     "metadata": {},
     "output_type": "display_data"
    }
   ],
   "source": [
    "accuracy_list = list()\n",
    "accuracy,precision,recall,f1 = compute_metrics(dtPredictions)\n",
    "accuracy_list.append(accuracy)\n",
    "accuracy,precision,recall,f1 = compute_metrics(predictions)\n",
    "accuracy_list.append(accuracy)\n",
    "accuracy,precision,recall,f1 = compute_metrics(predicted_data)\n",
    "accuracy_list.append(accuracy)\n",
    "plot_metrics(['Decision Tree','RandomForestClassifier','Logistic Regression'],accuracy_list)"
   ]
  },
  {
   "attachments": {
    "image.png": {
     "image/png": "[encoded data removed]"
    }
   },
   "cell_type": "markdown",
   "metadata": {},
   "source": [
    "#### Area Under the Curve (AUC-ROC) <a class=\"anchor\" name=\"roc\"></a>\n",
    "When we need to check or visualize the performance of the multi - class classification problem, we use AUC (Area Under The Curve) ROC (Receiver Operating Characteristics) curve. It is one of the most important evaluation metrics for checking any classification model’s performance.\n",
    "\n",
    "<br/><br/>\n",
    "\n",
    "<div style=\"width:40%;float:left;text-align:left;\">\n",
    "<img src=\"attachment:image.png\" width=\"200px;\">\n",
    "    </div><div style=\"width:60%;float:right;text-align:justify\">\n",
    "AUC - ROC curve is a performance measurement for classification problem at various thresholds settings. ROC is a probability curve and AUC represents degree or measure of separability. It tells how much model is capable of distinguishing between classes. Higher the AUC, better the model is at predicting 0s as 0s and 1s as 1s.\n",
    "    \n",
    "In the example below, we are using Spark's <code>BinaryClassificationEvaluator</code> to compute the AUC-ROC curve.\n",
    "   </div>\n",
    "   <div style=\"clear:both\"></div> "
   ]
  },
  {
   "cell_type": "markdown",
   "metadata": {},
   "source": [
    "##### Binary Classification Metrics <a class=\"anchor\" name=\"bce\"></a> \n",
    "Now let's evaluate the model using BinaryClassificationMetrics class in Spark ML. BinaryClassificationMetrics by default uses areaUnderROC as the performance metric.\n",
    "<a href=\"https://spark.apache.org/docs/latest/mllib-evaluation-metrics.html#binary-classification\" target='_BLANK'>Read More</a>"
   ]
  },
  {
   "cell_type": "code",
   "execution_count": 214,
   "metadata": {},
   "outputs": [
    {
     "name": "stdout",
     "output_type": "stream",
     "text": [
      "0.5134491634491634\n",
      "areaUnderROC\n"
     ]
    }
   ],
   "source": [
    "# Use BinaryClassificationEvaluator to evaluate a model\n",
    "from pyspark.ml.evaluation import BinaryClassificationEvaluator\n",
    "\n",
    "# Evaluate model Decision Tree\n",
    "evaluator = BinaryClassificationEvaluator(rawPredictionCol=\"rawPrediction\")\n",
    "auc_dt = evaluator.evaluate(dtPredictions)\n",
    "print(auc_dt)\n",
    "print(evaluator.getMetricName())"
   ]
  },
  {
   "cell_type": "code",
   "execution_count": 215,
   "metadata": {},
   "outputs": [
    {
     "name": "stdout",
     "output_type": "stream",
     "text": [
      "0.7475200475200469\n",
      "areaUnderROC\n"
     ]
    }
   ],
   "source": [
    "#WRITE CODE : area under curve for Random Forest\n",
    "evaluator = BinaryClassificationEvaluator(rawPredictionCol=\"rawPrediction\")\n",
    "auc_rf = evaluator.evaluate(predictions)\n",
    "print(auc_rf)\n",
    "print(evaluator.getMetricName())"
   ]
  },
  {
   "cell_type": "code",
   "execution_count": 216,
   "metadata": {},
   "outputs": [
    {
     "name": "stdout",
     "output_type": "stream",
     "text": [
      "0.7062700062700059\n",
      "areaUnderROC\n"
     ]
    }
   ],
   "source": [
    "#WRITE CODE : area under curve for Logistic Regression\n",
    "evaluator = BinaryClassificationEvaluator(rawPredictionCol=\"rawPrediction\")\n",
    "auc_lr = evaluator.evaluate(predicted_data)\n",
    "print(auc_lr)\n",
    "print(evaluator.getMetricName())"
   ]
  },
  {
   "cell_type": "markdown",
   "metadata": {},
   "source": [
    "### Visualizing AUC-ROC <a class=\"anchor\" name=\"roc-viz\"></a> \n",
    "We can easily visualize the ROC curve for <strong>Logistic Regression</strong> using the <code>BinaryClassificationEvaluator</code>. The example below shows how to plot it using matplotlib.\n"
   ]
  },
  {
   "cell_type": "code",
   "execution_count": 220,
   "metadata": {},
   "outputs": [
    {
     "name": "stdout",
     "output_type": "stream",
     "text": [
      "Area Under ROC: 0.7062700062700059\n"
     ]
    },
    {
     "data": {
      "image/png": "[encoded data removed]",
      "text/plain": [
       "<Figure size 432x288 with 1 Axes>"
      ]
     },
     "metadata": {},
     "output_type": "display_data"
    }
   ],
   "source": [
    "import matplotlib.pyplot as plt\n",
    "\n",
    "print(\"Area Under ROC: \" + str(evaluator.evaluate(predicted_data, {evaluator.metricName: \"areaUnderROC\"})))\n",
    "\n",
    "# Plot ROC curve\n",
    "trainingSummary = model.summary\n",
    "roc = trainingSummary.roc.toPandas()\n",
    "plt.plot(roc['FPR'],roc['TPR'])\n",
    "plt.ylabel('TPR')\n",
    "plt.xlabel('FPR')\n",
    "plt.title('ROC Curve')\n",
    "plt.show()"
   ]
  },
  {
   "cell_type": "markdown",
   "metadata": {},
   "source": [
    "##### Getting the thresholds\n",
    "We can simply use numpy <code>linspace</code> to get a list of thresholds."
   ]
  },
  {
   "cell_type": "code",
   "execution_count": 221,
   "metadata": {},
   "outputs": [
    {
     "name": "stdout",
     "output_type": "stream",
     "text": [
      "[0.         0.01010101 0.02020202 0.03030303 0.04040404 0.05050505\n",
      " 0.06060606 0.07070707 0.08080808 0.09090909 0.1010101  0.11111111\n",
      " 0.12121212 0.13131313 0.14141414 0.15151515 0.16161616 0.17171717\n",
      " 0.18181818 0.19191919 0.2020202  0.21212121 0.22222222 0.23232323\n",
      " 0.24242424 0.25252525 0.26262626 0.27272727 0.28282828 0.29292929\n",
      " 0.3030303  0.31313131 0.32323232 0.33333333 0.34343434 0.35353535\n",
      " 0.36363636 0.37373737 0.38383838 0.39393939 0.4040404  0.41414141\n",
      " 0.42424242 0.43434343 0.44444444 0.45454545 0.46464646 0.47474747\n",
      " 0.48484848 0.49494949 0.50505051 0.51515152 0.52525253 0.53535354\n",
      " 0.54545455 0.55555556 0.56565657 0.57575758 0.58585859 0.5959596\n",
      " 0.60606061 0.61616162 0.62626263 0.63636364 0.64646465 0.65656566\n",
      " 0.66666667 0.67676768 0.68686869 0.6969697  0.70707071 0.71717172\n",
      " 0.72727273 0.73737374 0.74747475 0.75757576 0.76767677 0.77777778\n",
      " 0.78787879 0.7979798  0.80808081 0.81818182 0.82828283 0.83838384\n",
      " 0.84848485 0.85858586 0.86868687 0.87878788 0.88888889 0.8989899\n",
      " 0.90909091 0.91919192 0.92929293 0.93939394 0.94949495 0.95959596\n",
      " 0.96969697 0.97979798 0.98989899 1.        ]\n"
     ]
    }
   ],
   "source": [
    "import numpy as np\n",
    "print(np.linspace(0, 1, 100))"
   ]
  },
  {
   "cell_type": "markdown",
   "metadata": {},
   "source": [
    "If we look at the <code>probability</code> column of the predictions, we will see it is an <code>Array</code> with two probability values, the first one for negative class and the second one for positive class. Now we can consider the <strong>probability for positive class</strong> to decide which value is <strong>positive</strong> and which value is <strong>negative</strong>\n",
    "\n",
    "For example, if our threshold is 0.7, we can say <strong>if the positive probability is greater than 0.7, it is a positive prediction else it is a negative prediction</strong>. \n",
    "\n",
    "Here is an example for the Decision Tree Predictions."
   ]
  },
  {
   "cell_type": "code",
   "execution_count": 222,
   "metadata": {},
   "outputs": [],
   "source": [
    "#User Defined Function to split the probabilities into two columns\n",
    "import pyspark.sql.functions as F\n",
    "import pyspark.sql.types as T\n",
    "to_array = F.udf(lambda v: v.toArray().tolist(), T.ArrayType(T.FloatType()))"
   ]
  },
  {
   "cell_type": "code",
   "execution_count": 223,
   "metadata": {},
   "outputs": [],
   "source": [
    "#Splitting the probability to 2 parts using the UDF\n",
    "df = dtPredictions.withColumn('probability', to_array('probability'))"
   ]
  },
  {
   "cell_type": "code",
   "execution_count": 224,
   "metadata": {},
   "outputs": [],
   "source": [
    "#A new df which contains the probabilites in separate columns\n",
    "prob_df = df.select(df.probability[0].alias('negative_prob'),df.probability[1].alias('positive_prob'),'label')"
   ]
  },
  {
   "cell_type": "markdown",
   "metadata": {},
   "source": [
    "Now, we have extracted the probabilities for positive and negative class. Now we need to create our own <code>prediction</code> column based on a threshold we are provided."
   ]
  },
  {
   "cell_type": "code",
   "execution_count": 225,
   "metadata": {},
   "outputs": [
    {
     "data": {
      "text/plain": [
       "DataFrame[negative_prob: float, positive_prob: float, label: double, prediction: int]"
      ]
     },
     "execution_count": 225,
     "metadata": {},
     "output_type": "execute_result"
    }
   ],
   "source": [
    "#Here based on the threshold, the prediction column is computed\n",
    "threshold=0.7\n",
    "prob_df.withColumn('prediction',F.when(prob_df.positive_prob > threshold,1).otherwise(0))"
   ]
  },
  {
   "cell_type": "markdown",
   "metadata": {},
   "source": [
    "Now we can create the confusion metrics based on the new predicted class. Let's create a function to do that. The function returns the TN,TP,FN and FP values."
   ]
  },
  {
   "cell_type": "code",
   "execution_count": 226,
   "metadata": {},
   "outputs": [],
   "source": [
    "def confusion_matrix(predictions):\n",
    "     # Calculate the elements of the confusion matrix\n",
    "    TN = predictions.filter('prediction = 0 AND label = 0').count()\n",
    "    TP = predictions.filter('prediction = 1 AND label = 1').count()\n",
    "    FN = predictions.filter('prediction = 0 AND label = 1').count()\n",
    "    FP = predictions.filter('prediction = 1 AND label = 0').count()\n",
    "    return TP,TN,FP,FN"
   ]
  },
  {
   "cell_type": "code",
   "execution_count": 227,
   "metadata": {},
   "outputs": [
    {
     "name": "stdout",
     "output_type": "stream",
     "text": [
      "TPR: 0.48841698841698844 FPR: 0.13675213675213677\n"
     ]
    }
   ],
   "source": [
    "#TESTING \n",
    "#for threshold 0.7, lets calculate the TN,TP,FN,FP from confusion matrix\n",
    "threshold=0.7\n",
    "test_df=prob_df.withColumn('prediction',F.when(prob_df.positive_prob > threshold,1).otherwise(0))\n",
    "tp,tn,fp,fn = confusion_matrix(prob_df)  \n",
    "tpr = tp/(tp+fn)\n",
    "fpr = fp/(fp+tn)\n",
    "print('TPR:',tpr,'FPR:',fpr)"
   ]
  }
 ],
 "metadata": {
  "kernelspec": {
   "display_name": "Python 3",
   "language": "python",
   "name": "python3"
  },
  "language_info": {
   "codemirror_mode": {
    "name": "ipython",
    "version": 3
   },
   "file_extension": ".py",
   "mimetype": "text/x-python",
   "name": "python",
   "nbconvert_exporter": "python",
   "pygments_lexer": "ipython3",
   "version": "3.8.2"
  }
 },
 "nbformat": 4,
 "nbformat_minor": 4
}
